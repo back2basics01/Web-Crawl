{
 "cells": [
  {
   "cell_type": "code",
   "execution_count": 15,
   "metadata": {},
   "outputs": [],
   "source": [
    "import queue\n",
    "import re\n",
    "from urllib.parse import urlparse\n",
    "from urllib.parse import urljoin\n",
    "\n",
    "from urllib.parse import urlsplit  # splitting out the url - netloc and path\n",
    "import time  # add download delay - 5 seconds \n"
   ]
  },
  {
   "cell_type": "code",
   "execution_count": 16,
   "metadata": {},
   "outputs": [],
   "source": [
    "\n",
    "from bs4 import BeautifulSoup\n",
    "import requests\n",
    "from selenium import webdriver\n"
   ]
  },
  {
   "cell_type": "code",
   "execution_count": 17,
   "metadata": {},
   "outputs": [],
   "source": [
    "\n",
    "\n",
    "def is_absolute(url):\n",
    "    \"\"\"Determine whether URL is absolute.\"\"\"\n",
    "    return bool(urlparse(url).netloc)\n",
    "\n"
   ]
  },
  {
   "cell_type": "code",
   "execution_count": 18,
   "metadata": {},
   "outputs": [
    {
     "name": "stderr",
     "output_type": "stream",
     "text": [
      "/Users/ianchriste/anaconda3/lib/python3.7/site-packages/ipykernel_launcher.py:4: DeprecationWarning: use options instead of chrome_options\n",
      "  after removing the cwd from sys.path.\n"
     ]
    }
   ],
   "source": [
    "\n",
    "options = webdriver.ChromeOptions()\n",
    "options.add_argument(\"headless\")\n",
    "driver = webdriver.Chrome(chrome_options=options)\n",
    "\n"
   ]
  },
  {
   "cell_type": "code",
   "execution_count": 19,
   "metadata": {},
   "outputs": [],
   "source": [
    "# List to hold email addresses and q for the Queue of urls\n",
    "\n",
    "email_addresses = []\n",
    "\n",
    "q = queue.Queue()\n",
    "\n",
    "q.put(\"https://www.stevens.edu/school-business/faculty\")\n",
    "\n"
   ]
  },
  {
   "cell_type": "code",
   "execution_count": 20,
   "metadata": {},
   "outputs": [],
   "source": [
    "# create\n",
    "final_list = []  # capture all links in this list\n",
    "email_total =[]  # capture all emails in this list\n"
   ]
  },
  {
   "cell_type": "code",
   "execution_count": 21,
   "metadata": {},
   "outputs": [
    {
     "name": "stdout",
     "output_type": "stream",
     "text": [
      "loop: 1\n",
      "Queue size: 525\n",
      "# email addresses: 121\n",
      "loop: 2\n",
      "Queue size: 1095\n",
      "# email addresses: 122\n",
      "loop: 3\n",
      "Queue size: 1666\n",
      "# email addresses: 123\n",
      "loop: 4\n",
      "Queue size: 2273\n",
      "# email addresses: 123\n",
      "loop: 5\n",
      "Queue size: 2880\n",
      "# email addresses: 123\n",
      "loop: 6\n",
      "Queue size: 3274\n",
      "# email addresses: 123\n",
      "loop: 7\n",
      "Queue size: 3928\n",
      "# email addresses: 123\n",
      "loop: 8\n",
      "Queue size: 4622\n",
      "# email addresses: 124\n"
     ]
    }
   ],
   "source": [
    "\n",
    "\n",
    "link_list = []  # To Avoid visiting any page more than once\n",
    "\n",
    "\n",
    "\n",
    "for i in range(8):\n",
    "    i = 1 + i\n",
    "    print(\"loop: {}\".format(i))\n",
    "    url = q.get()\n",
    "\n",
    "    # r = requests.get(url)\n",
    "    driver.get(url)\n",
    "\n",
    "    soup = BeautifulSoup(driver.page_source, 'html.parser')\n",
    "\n",
    "    # Extract all email addresses.\n",
    "    # print(soup.get_text())\n",
    "    email_addresses += re.findall(\"\\S+@stevens.edu\", soup.get_text())\n",
    "    email_addresses = list(set(email_addresses))\n",
    "\n",
    "    links = soup.find_all('a')\n",
    "    links = set(links)\n",
    "    \n",
    "\n",
    "    for link in links:\n",
    "        if link not in link_list:\n",
    "            link_list.append(link)\n",
    "        \n",
    "    for link in link_list:\n",
    "        u = link.get('href')\n",
    "        if not is_absolute(u):\n",
    "            u = urljoin(url, u)\n",
    "        if \"stevens.edu\" in u:\n",
    "            q.put(u)\n",
    "            \n",
    "    time.sleep(10)   # set your crawl delay to 10 seconds\n",
    "    \n",
    "    final_list.append(u) # final list \n",
    "    \n",
    "    email_total.append(email_addresses)\n",
    "    \n",
    "    print(\"Queue size: {}\".format(q.qsize()))\n",
    "    print(\"# email addresses: {}\".format(len(email_addresses)))"
   ]
  },
  {
   "cell_type": "code",
   "execution_count": 22,
   "metadata": {},
   "outputs": [],
   "source": [
    "directory = []    # directory structure that reflectes the hierarchy\n",
    "for link in final_list:\n",
    "    parts = urlsplit(link)\n",
    "    b = parts.scheme    # url split - scheme\n",
    "    c = parts.path      # url split - path\n",
    "    d = parts.netloc    # url split - netloc\n",
    "    directory.append(b)\n",
    "    directory.append(c)\n",
    "    directory.append(d)"
   ]
  },
  {
   "cell_type": "code",
   "execution_count": 23,
   "metadata": {},
   "outputs": [
    {
     "name": "stdout",
     "output_type": "stream",
     "text": [
      "['http', '/facultyprofile/', 'web.stevens.edu', 'https', '/events/stevens-graduate-open-house-7', 'www.stevens.edu', 'http', '/facultyprofile/', 'web.stevens.edu', 'http', '/', 'www.panynj.gov', 'http', '/', 'www.panynj.gov', 'http', '/', 'www.panynj.gov', 'https', '/bM35YWydMa', 't.co', 'https', '/directory/development-and-alumni-engagement/stay-informed/contact-us', 'www.stevens.edu']\n"
     ]
    }
   ],
   "source": [
    "print(directory)"
   ]
  },
  {
   "cell_type": "code",
   "execution_count": 24,
   "metadata": {},
   "outputs": [],
   "source": [
    "with open(\"email.txt\", \"w+\") as f:\n",
    "    for e in email_addresses:\n",
    "        f.write(e + \"\\n\")\n"
   ]
  },
  {
   "cell_type": "code",
   "execution_count": 25,
   "metadata": {},
   "outputs": [],
   "source": [
    "with open(\"directory.txt\", \"w+\") as f:\n",
    "    for e in directory:\n",
    "        f.write(e + \"\\n\")\n"
   ]
  },
  {
   "cell_type": "code",
   "execution_count": null,
   "metadata": {},
   "outputs": [],
   "source": []
  }
 ],
 "metadata": {
  "kernelspec": {
   "display_name": "Python 3",
   "language": "python",
   "name": "python3"
  },
  "language_info": {
   "codemirror_mode": {
    "name": "ipython",
    "version": 3
   },
   "file_extension": ".py",
   "mimetype": "text/x-python",
   "name": "python",
   "nbconvert_exporter": "python",
   "pygments_lexer": "ipython3",
   "version": "3.7.3"
  }
 },
 "nbformat": 4,
 "nbformat_minor": 2
}
